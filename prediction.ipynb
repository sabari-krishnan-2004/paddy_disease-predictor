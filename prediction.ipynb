{
 "cells": [
  {
   "cell_type": "code",
   "execution_count": null,
   "metadata": {},
   "outputs": [],
   "source": []
  },
  {
   "cell_type": "code",
   "execution_count": 1,
   "metadata": {},
   "outputs": [],
   "source": [
    "import numpy as np\n",
    "import pandas as pd\n",
    "import matplotlib.pyplot as plt\n",
    "import os\n",
    "import tensorflow as tf\n",
    "from tensorflow.keras.preprocessing.image import ImageDataGenerator, load_img, img_to_array\n",
    "from tensorflow.keras.applications.vgg19 import VGG19, preprocess_input\n",
    "from tensorflow.keras.layers import Dense, Flatten\n",
    "from tensorflow.keras.models import Model\n",
    "from tensorflow.keras.callbacks import EarlyStopping, ModelCheckpoint\n"
   ]
  },
  {
   "cell_type": "code",
   "execution_count": 3,
   "metadata": {},
   "outputs": [],
   "source": [
    "# Define directories\n",
    "train_dir = 'paddy-leaf-disease-main/train'\n",
    "val_dir = 'paddy-leaf-disease-main/validation'\n",
    "test_dir = 'paddy-leaf-disease-main/test'"
   ]
  },
  {
   "cell_type": "code",
   "execution_count": 4,
   "metadata": {},
   "outputs": [],
   "source": [
    "# Data augmentation and preprocessing\n",
    "train_datagen = ImageDataGenerator(\n",
    "    zoom_range=0.5,\n",
    "    shear_range=0.3,\n",
    "    horizontal_flip=True,\n",
    "    preprocessing_function=preprocess_input\n",
    ")\n",
    "\n",
    "val_datagen = ImageDataGenerator(preprocessing_function=preprocess_input)\n"
   ]
  },
  {
   "cell_type": "code",
   "execution_count": 5,
   "metadata": {},
   "outputs": [
    {
     "name": "stdout",
     "output_type": "stream",
     "text": [
      "Found 782 images belonging to 5 classes.\n",
      "Found 121 images belonging to 5 classes.\n"
     ]
    }
   ],
   "source": [
    "# Load images from directories\n",
    "training_set = train_datagen.flow_from_directory(\n",
    "    directory=train_dir,\n",
    "    target_size=(256, 256),\n",
    "    batch_size=32,\n",
    "    class_mode='categorical'\n",
    ")\n",
    "\n",
    "test_set = val_datagen.flow_from_directory(\n",
    "    directory=val_dir,\n",
    "    target_size=(256, 256),\n",
    "    batch_size=32,\n",
    "    class_mode='categorical'\n",
    ")"
   ]
  },
  {
   "cell_type": "code",
   "execution_count": 6,
   "metadata": {},
   "outputs": [
    {
     "name": "stdout",
     "output_type": "stream",
     "text": [
      "Downloading data from https://storage.googleapis.com/tensorflow/keras-applications/vgg19/vgg19_weights_tf_dim_ordering_tf_kernels_notop.h5\n",
      "\u001b[1m80134624/80134624\u001b[0m \u001b[32m━━━━━━━━━━━━━━━━━━━━\u001b[0m\u001b[37m\u001b[0m \u001b[1m12s\u001b[0m 0us/step\n"
     ]
    }
   ],
   "source": [
    "# Define the model\n",
    "base_model = VGG19(input_shape=(256, 256, 3), include_top=False)\n",
    "\n",
    "for layer in base_model.layers:\n",
    "    layer.trainable = False\n",
    "\n",
    "X = Flatten()(base_model.output)\n",
    "X = Dense(units=len(training_set.class_indices), activation='softmax')(X)\n",
    "\n",
    "model = Model(inputs=base_model.input, outputs=X)\n",
    "\n",
    "model.compile(\n",
    "    optimizer='adam',\n",
    "    loss='categorical_crossentropy',\n",
    "    metrics=['accuracy']\n",
    ")\n"
   ]
  },
  {
   "cell_type": "code",
   "execution_count": 8,
   "metadata": {},
   "outputs": [],
   "source": [
    "# Callbacks\n",
    "es = EarlyStopping(monitor='val_accuracy', min_delta=0.01, patience=3, verbose=1)\n",
    "mc = ModelCheckpoint(filepath='best_model.keras', monitor='val_accuracy', save_best_only=True, verbose=1)\n",
    "callbacks = [es, mc]\n"
   ]
  },
  {
   "cell_type": "code",
   "execution_count": 10,
   "metadata": {},
   "outputs": [
    {
     "name": "stdout",
     "output_type": "stream",
     "text": [
      "Epoch 1/10\n",
      "\u001b[1m25/25\u001b[0m \u001b[32m━━━━━━━━━━━━━━━━━━━━\u001b[0m\u001b[37m\u001b[0m \u001b[1m0s\u001b[0m 11s/step - accuracy: 0.5648 - loss: 7.0960 \n",
      "Epoch 1: val_accuracy improved from -inf to 0.74380, saving model to best_model.keras\n",
      "\u001b[1m25/25\u001b[0m \u001b[32m━━━━━━━━━━━━━━━━━━━━\u001b[0m\u001b[37m\u001b[0m \u001b[1m322s\u001b[0m 13s/step - accuracy: 0.5671 - loss: 7.0557 - val_accuracy: 0.7438 - val_loss: 5.9157\n",
      "Epoch 2/10\n",
      "\u001b[1m25/25\u001b[0m \u001b[32m━━━━━━━━━━━━━━━━━━━━\u001b[0m\u001b[37m\u001b[0m \u001b[1m0s\u001b[0m 9s/step - accuracy: 0.7491 - loss: 3.6900\n",
      "Epoch 2: val_accuracy improved from 0.74380 to 0.76860, saving model to best_model.keras\n",
      "\u001b[1m25/25\u001b[0m \u001b[32m━━━━━━━━━━━━━━━━━━━━\u001b[0m\u001b[37m\u001b[0m \u001b[1m257s\u001b[0m 10s/step - accuracy: 0.7490 - loss: 3.7044 - val_accuracy: 0.7686 - val_loss: 5.7513\n",
      "Epoch 3/10\n",
      "\u001b[1m25/25\u001b[0m \u001b[32m━━━━━━━━━━━━━━━━━━━━\u001b[0m\u001b[37m\u001b[0m \u001b[1m0s\u001b[0m 8s/step - accuracy: 0.8196 - loss: 2.5623\n",
      "Epoch 3: val_accuracy improved from 0.76860 to 0.80992, saving model to best_model.keras\n",
      "\u001b[1m25/25\u001b[0m \u001b[32m━━━━━━━━━━━━━━━━━━━━\u001b[0m\u001b[37m\u001b[0m \u001b[1m248s\u001b[0m 10s/step - accuracy: 0.8196 - loss: 2.5677 - val_accuracy: 0.8099 - val_loss: 5.2189\n",
      "Epoch 4/10\n",
      "\u001b[1m25/25\u001b[0m \u001b[32m━━━━━━━━━━━━━━━━━━━━\u001b[0m\u001b[37m\u001b[0m \u001b[1m0s\u001b[0m 8s/step - accuracy: 0.8009 - loss: 3.3760\n",
      "Epoch 4: val_accuracy did not improve from 0.80992\n",
      "\u001b[1m25/25\u001b[0m \u001b[32m━━━━━━━━━━━━━━━━━━━━\u001b[0m\u001b[37m\u001b[0m \u001b[1m249s\u001b[0m 10s/step - accuracy: 0.8016 - loss: 3.3792 - val_accuracy: 0.7686 - val_loss: 7.6846\n",
      "Epoch 5/10\n",
      "\u001b[1m25/25\u001b[0m \u001b[32m━━━━━━━━━━━━━━━━━━━━\u001b[0m\u001b[37m\u001b[0m \u001b[1m0s\u001b[0m 8s/step - accuracy: 0.8553 - loss: 2.5569\n",
      "Epoch 5: val_accuracy improved from 0.80992 to 0.84298, saving model to best_model.keras\n",
      "\u001b[1m25/25\u001b[0m \u001b[32m━━━━━━━━━━━━━━━━━━━━\u001b[0m\u001b[37m\u001b[0m \u001b[1m251s\u001b[0m 10s/step - accuracy: 0.8552 - loss: 2.5471 - val_accuracy: 0.8430 - val_loss: 5.9948\n",
      "Epoch 6/10\n",
      "\u001b[1m25/25\u001b[0m \u001b[32m━━━━━━━━━━━━━━━━━━━━\u001b[0m\u001b[37m\u001b[0m \u001b[1m0s\u001b[0m 8s/step - accuracy: 0.8844 - loss: 1.6858\n",
      "Epoch 6: val_accuracy did not improve from 0.84298\n",
      "\u001b[1m25/25\u001b[0m \u001b[32m━━━━━━━━━━━━━━━━━━━━\u001b[0m\u001b[37m\u001b[0m \u001b[1m248s\u001b[0m 10s/step - accuracy: 0.8837 - loss: 1.6994 - val_accuracy: 0.8430 - val_loss: 7.3080\n",
      "Epoch 7/10\n",
      "\u001b[1m25/25\u001b[0m \u001b[32m━━━━━━━━━━━━━━━━━━━━\u001b[0m\u001b[37m\u001b[0m \u001b[1m0s\u001b[0m 8s/step - accuracy: 0.8388 - loss: 2.5998\n",
      "Epoch 7: val_accuracy did not improve from 0.84298\n",
      "\u001b[1m25/25\u001b[0m \u001b[32m━━━━━━━━━━━━━━━━━━━━\u001b[0m\u001b[37m\u001b[0m \u001b[1m251s\u001b[0m 10s/step - accuracy: 0.8393 - loss: 2.5965 - val_accuracy: 0.8017 - val_loss: 8.6414\n",
      "Epoch 8/10\n",
      "\u001b[1m25/25\u001b[0m \u001b[32m━━━━━━━━━━━━━━━━━━━━\u001b[0m\u001b[37m\u001b[0m \u001b[1m0s\u001b[0m 9s/step - accuracy: 0.8487 - loss: 2.6082\n",
      "Epoch 8: val_accuracy did not improve from 0.84298\n",
      "\u001b[1m25/25\u001b[0m \u001b[32m━━━━━━━━━━━━━━━━━━━━\u001b[0m\u001b[37m\u001b[0m \u001b[1m259s\u001b[0m 10s/step - accuracy: 0.8491 - loss: 2.6047 - val_accuracy: 0.8182 - val_loss: 8.9534\n",
      "Epoch 8: early stopping\n"
     ]
    }
   ],
   "source": [
    "# Train the model\n",
    "history = model.fit(\n",
    "    training_set,\n",
    "    validation_data=test_set,\n",
    "    epochs=10,\n",
    "    callbacks=callbacks\n",
    ")\n"
   ]
  },
  {
   "cell_type": "code",
   "execution_count": 11,
   "metadata": {},
   "outputs": [
    {
     "name": "stdout",
     "output_type": "stream",
     "text": [
      "The history saving thread hit an unexpected error (OperationalError('database or disk is full')).History will not be written to the database.\n"
     ]
    },
    {
     "data": {
      "image/png": "[encoded data removed]",
      "text/plain": [
       "<Figure size 640x480 with 1 Axes>"
      ]
     },
     "metadata": {},
     "output_type": "display_data"
    }
   ],
   "source": [
    "# Plot training history\n",
    "plt.plot(history.history['loss'], c='black')\n",
    "plt.plot(history.history['val_loss'], c='red')\n",
    "plt.title('Train Loss vs Validation Loss')\n",
    "plt.show()"
   ]
  },
  {
   "cell_type": "code",
   "execution_count": 12,
   "metadata": {},
   "outputs": [
    {
     "data": {
      "image/png": "[encoded data removed]",
      "text/plain": [
       "<Figure size 640x480 with 1 Axes>"
      ]
     },
     "metadata": {},
     "output_type": "display_data"
    }
   ],
   "source": [
    "plt.plot(history.history['accuracy'], c='black')\n",
    "plt.plot(history.history['val_accuracy'], c='red')\n",
    "plt.title('Train Accuracy vs Validation Accuracy')\n",
    "plt.show()"
   ]
  },
  {
   "cell_type": "code",
   "execution_count": 14,
   "metadata": {},
   "outputs": [],
   "source": [
    "loaded_model = tf.keras.models.load_model('best_model.keras')\n"
   ]
  },
  {
   "cell_type": "code",
   "execution_count": 15,
   "metadata": {},
   "outputs": [
    {
     "name": "stdout",
     "output_type": "stream",
     "text": [
      "\u001b[1m4/4\u001b[0m \u001b[32m━━━━━━━━━━━━━━━━━━━━\u001b[0m\u001b[37m\u001b[0m \u001b[1m37s\u001b[0m 9s/step - accuracy: 0.8601 - loss: 4.3748\n",
      "Accuracy of validation data is: 84.3 %\n"
     ]
    }
   ],
   "source": [
    "accuracy = loaded_model.evaluate(test_set)[1]\n",
    "print(f'Accuracy of validation data is: {round(100*accuracy, 2)} %')\n"
   ]
  },
  {
   "cell_type": "code",
   "execution_count": 20,
   "metadata": {},
   "outputs": [],
   "source": [
    "reference = {\n",
    "    0: 'Brown Spot',\n",
    "    1: 'Leaf Blast',\n",
    "    2: 'Leaf Blight',\n",
    "    3: 'Leaf Smut',\n",
    "    4: 'Healthy Crop'\n",
    "}"
   ]
  },
  {
   "cell_type": "code",
   "execution_count": 64,
   "metadata": {},
   "outputs": [],
   "source": [
    "from PIL import Image\n",
    "import numpy as np\n",
    "from keras.preprocessing.image import img_to_array\n",
    "from keras.applications.resnet50 import preprocess_input\n",
    "\n",
    "def prediction(encoded_image):\n",
    "    # Decode the base64 string\n",
    "    image_data = base64.b64decode(encoded_image)\n",
    "    \n",
    "    # Convert the decoded bytes into a PIL image\n",
    "    img = Image.open(BytesIO(image_data))\n",
    "    img = img.convert('RGB')  # Ensure image is in RGB format\n",
    "    img = img.resize((256, 256))  # Resize image to the required size\n",
    "    \n",
    "    # Convert the image to an array\n",
    "    img_array = img_to_array(img)\n",
    "    print(f\"Image array shape before expand_dims: {img_array.shape}\")\n",
    "    \n",
    "    img_array = np.expand_dims(img_array, axis=0)  # Add batch dimension\n",
    "    print(f\"Image array shape after expand_dims: {img_array.shape}\")\n",
    "    \n",
    "    img_array = preprocess_input(img_array)  # Preprocess image\n",
    "    \n",
    "    # Make prediction using the model\n",
    "    pred = np.argmax(loaded_model.predict(img_array))\n",
    "    \n",
    "    # Retrieve disease info\n",
    "    disease = reference[pred]\n",
    "    info = disease_info.get(disease, {\n",
    "        'description': 'Information not available.',\n",
    "        'cause': 'Cause not available.',\n",
    "        'solution': 'Solution not available.',\n",
    "        'emergency_level': 0\n",
    "    })\n",
    "    \n",
    "    result = {\n",
    "        'disease': disease,\n",
    "        'description': info['description'],\n",
    "        'cause': info['cause'],\n",
    "        'solution': info['solution'],\n",
    "        'emergency_level': info['emergency_level']\n",
    "    }\n",
    "    \n",
    "    return result\n"
   ]
  },
  {
   "cell_type": "code",
   "execution_count": 32,
   "metadata": {},
   "outputs": [
    {
     "name": "stdout",
     "output_type": "stream",
     "text": [
      "\u001b[1m1/1\u001b[0m \u001b[32m━━━━━━━━━━━━━━━━━━━━\u001b[0m\u001b[37m\u001b[0m \u001b[1m0s\u001b[0m 477ms/step\n",
      "Disease: Leaf Smut\n",
      "Description: Leaf smut is characterized by dark, smutty spots or lesions on the rice leaves, which can lead to reduced plant health and yield. The lesions are typically irregular and covered with black, spore-filled structures. The disease can weaken the plant, making it more susceptible to other stresses and diseases.\n",
      "Cause: Leaf smut is caused by the fungal pathogen Entyloma oryzae. The fungus thrives in humid environments and spreads through spores that can be carried by wind and water. Infected plant material and seeds can also be sources of infection.\n",
      "Solution: Use resistant rice varieties and ensure good field sanitation to remove infected plant debris. Implement proper water management to reduce humidity levels. Fungicide applications can be effective, especially if applied before the disease spreads extensively. Crop rotation can also help manage the disease.\n",
      "emergency_level : 3\n"
     ]
    }
   ],
   "source": [
    "\n",
    "result = prediction(\"paddy-leaf-disease-main/validation\\Leaf Blight/blight-_0_1753.jpg\")\n",
    "print(f\"Disease: {result['disease']}\")\n",
    "print(f\"Description: {result['description']}\")\n",
    "print(f\"Cause: {result['cause']}\")\n",
    "print(f\"Solution: {result['solution']}\")\n",
    "print(f\"emergency_level : {result['emergency_level']}\")"
   ]
  },
  {
   "cell_type": "code",
   "execution_count": 30,
   "metadata": {},
   "outputs": [],
   "source": [
    "disease_info = {\n",
    "    'Brown Spot': {\n",
    "        'description': (\n",
    "            'Brown spot is a prevalent disease in rice crops characterized by the appearance of '\n",
    "            'small, round, brown lesions on the leaves. These lesions often have a darker center and '\n",
    "            'a yellowish halo around them. The disease can significantly reduce the photosynthetic area '\n",
    "            'of the plant, leading to decreased yield and poor grain quality.'\n",
    "        ),\n",
    "        'cause': (\n",
    "            'Brown spot is caused by the fungal pathogen Bipolaris oryzae, which thrives in warm and '\n",
    "            'humid conditions. The fungus spreads through infected seeds, plant debris, and water.'\n",
    "        ),\n",
    "        'solution': (\n",
    "            'To manage brown spot, use resistant rice varieties that are less susceptible to the disease. '\n",
    "            'Ensure proper field drainage to reduce humidity. Practice crop rotation and remove infected '\n",
    "            'plant debris. Fungicide applications can be effective if applied at the early stages of infection.'\n",
    "        ),\n",
    "        'emergency_level': 3  # Moderate danger\n",
    "    },\n",
    "    'Leaf Blast': {\n",
    "        'description': (\n",
    "            'Leaf blast is a severe disease affecting rice plants, marked by irregularly shaped, water-soaked '\n",
    "            'lesions on the leaves. These lesions can expand rapidly, causing significant leaf decay and '\n",
    "            'leading to reduced plant vigor and yield loss. In severe cases, the disease can also affect the '\n",
    "            'panicles, leading to empty grains.'\n",
    "        ),\n",
    "        'cause': (\n",
    "            'The disease is caused by the fungal pathogen Magnaporthe oryzae. It is highly virulent and spreads '\n",
    "            'through airborne spores. The fungus infects plants during periods of high humidity and warm temperatures.'\n",
    "        ),\n",
    "        'solution': (\n",
    "            'Plant resistant or tolerant rice varieties and apply balanced fertilization to strengthen plant health. '\n",
    "            'Use proper water management practices, such as maintaining intermittent flooding. Fungicides can be used '\n",
    "            'during the early stages of the disease. Regular monitoring and timely intervention are crucial for control.'\n",
    "        ),\n",
    "        'emergency_level': 4  # High danger\n",
    "    },\n",
    "    'Leaf Blight': {\n",
    "        'description': (\n",
    "            'Leaf blight is a disease that manifests as dark, water-soaked lesions on the rice leaves, which eventually '\n",
    "            'turn necrotic. The blight reduces the photosynthetic capacity of the plant, leading to poor growth and reduced '\n",
    "            'grain yield. Infected leaves may dry out prematurely, affecting the overall health of the plant.'\n",
    "        ),\n",
    "        'cause': (\n",
    "            'The disease is caused by the bacterial pathogen Xanthomonas oryzae pv. oryzae. It spreads through infected '\n",
    "            'seeds, plant residues, and water. High humidity and warm temperatures favor the development of this disease.'\n",
    "        ),\n",
    "        'solution': (\n",
    "            'To control leaf blight, use disease-resistant rice varieties and practice crop rotation. Avoid overhead irrigation '\n",
    "            'to reduce leaf wetness. Apply copper-based fungicides or bactericides if the disease is detected early. Proper field '\n",
    "            'sanitation and management practices are essential to prevent outbreaks.'\n",
    "        ),\n",
    "        'emergency_level': 4  # High danger\n",
    "    },\n",
    "    'Leaf Smut': {\n",
    "        'description': (\n",
    "            'Leaf smut is characterized by dark, smutty spots or lesions on the rice leaves, which can lead to reduced plant '\n",
    "            'health and yield. The lesions are typically irregular and covered with black, spore-filled structures. The disease '\n",
    "            'can weaken the plant, making it more susceptible to other stresses and diseases.'\n",
    "        ),\n",
    "        'cause': (\n",
    "            'Leaf smut is caused by the fungal pathogen Entyloma oryzae. The fungus thrives in humid environments and spreads '\n",
    "            'through spores that can be carried by wind and water. Infected plant material and seeds can also be sources of '\n",
    "            'infection.'\n",
    "        ),\n",
    "        'solution': (\n",
    "            'Use resistant rice varieties and ensure good field sanitation to remove infected plant debris. Implement proper water '\n",
    "            'management to reduce humidity levels. Fungicide applications can be effective, especially if applied before the disease '\n",
    "            'spreads extensively. Crop rotation can also help manage the disease.'\n",
    "        ),\n",
    "        'emergency_level': 3  # Moderate danger\n",
    "    },\n",
    "    'Healthy Crop': {\n",
    "        'description': (\n",
    "            'The plant is in a healthy state, exhibiting normal growth and development. The leaves are vibrant, green, and free of '\n",
    "            'any visible symptoms of disease or stress. The plant shows good vigor and is expected to yield well under standard growing conditions.'\n",
    "        ),\n",
    "        'cause': (\n",
    "            'The plant is not affected by any disease or stress. It is receiving adequate nutrients, water, and care, contributing to its optimal health.'\n",
    "        ),\n",
    "        'solution': (\n",
    "            'Continue with regular crop management practices, including proper watering, fertilization, and pest control. Maintain good field hygiene and monitor the plants regularly to ensure they remain healthy.'\n",
    "        ),\n",
    "        'emergency_level': 0  # No danger\n",
    "    }\n",
    "}\n"
   ]
  },
  {
   "cell_type": "code",
   "execution_count": 33,
   "metadata": {},
   "outputs": [
    {
     "name": "stdout",
     "output_type": "stream",
     "text": [
      "Requirement already satisfied: modelbit in c:\\users\\psabarikrishnan\\anaconda3\\lib\\site-packages (0.41.5)Note: you may need to restart the kernel to use updated packages.\n",
      "\n",
      "Requirement already satisfied: pycryptodomex in c:\\users\\psabarikrishnan\\anaconda3\\lib\\site-packages (from modelbit) (3.20.0)\n",
      "Requirement already satisfied: pandas in c:\\users\\psabarikrishnan\\anaconda3\\lib\\site-packages (from modelbit) (2.0.3)\n",
      "Requirement already satisfied: tqdm in c:\\users\\psabarikrishnan\\anaconda3\\lib\\site-packages (from modelbit) (4.65.0)\n",
      "Requirement already satisfied: requests in c:\\users\\psabarikrishnan\\anaconda3\\lib\\site-packages (from modelbit) (2.31.0)\n",
      "Requirement already satisfied: types-requests in c:\\users\\psabarikrishnan\\anaconda3\\lib\\site-packages (from modelbit) (2.32.0.20240712)\n",
      "Requirement already satisfied: pyyaml in c:\\users\\psabarikrishnan\\anaconda3\\lib\\site-packages (from modelbit) (6.0)\n",
      "Requirement already satisfied: types-PyYAML in c:\\users\\psabarikrishnan\\anaconda3\\lib\\site-packages (from modelbit) (6.0.12.20240808)\n",
      "Requirement already satisfied: jinja2 in c:\\users\\psabarikrishnan\\anaconda3\\lib\\site-packages (from modelbit) (3.1.2)\n",
      "Requirement already satisfied: zstandard in c:\\users\\psabarikrishnan\\anaconda3\\lib\\site-packages (from modelbit) (0.19.0)\n",
      "Requirement already satisfied: appdirs in c:\\users\\psabarikrishnan\\anaconda3\\lib\\site-packages (from modelbit) (1.4.4)\n",
      "Requirement already satisfied: texttable in c:\\users\\psabarikrishnan\\anaconda3\\lib\\site-packages (from modelbit) (1.7.0)\n",
      "Requirement already satisfied: build in c:\\users\\psabarikrishnan\\anaconda3\\lib\\site-packages (from modelbit) (0.10.0)\n",
      "Requirement already satisfied: pkginfo in c:\\users\\psabarikrishnan\\anaconda3\\lib\\site-packages (from modelbit) (1.9.6)\n",
      "Requirement already satisfied: boto3>=1.23.0 in c:\\users\\psabarikrishnan\\anaconda3\\lib\\site-packages (from modelbit) (1.35.10)\n",
      "Requirement already satisfied: numpy<2 in c:\\users\\psabarikrishnan\\anaconda3\\lib\\site-packages (from modelbit) (1.24.3)\n",
      "Requirement already satisfied: importlib-metadata in c:\\users\\psabarikrishnan\\anaconda3\\lib\\site-packages (from modelbit) (6.0.0)\n",
      "Requirement already satisfied: urllib3>=1.21.1 in c:\\users\\psabarikrishnan\\anaconda3\\lib\\site-packages (from modelbit) (2.2.2)\n",
      "Requirement already satisfied: botocore<1.36.0,>=1.35.10 in c:\\users\\psabarikrishnan\\anaconda3\\lib\\site-packages (from boto3>=1.23.0->modelbit) (1.35.10)\n",
      "Requirement already satisfied: jmespath<2.0.0,>=0.7.1 in c:\\users\\psabarikrishnan\\anaconda3\\lib\\site-packages (from boto3>=1.23.0->modelbit) (0.10.0)\n",
      "Requirement already satisfied: s3transfer<0.11.0,>=0.10.0 in c:\\users\\psabarikrishnan\\anaconda3\\lib\\site-packages (from boto3>=1.23.0->modelbit) (0.10.2)\n",
      "Requirement already satisfied: packaging>=19.0 in c:\\users\\psabarikrishnan\\anaconda3\\lib\\site-packages (from build->modelbit) (23.1)\n",
      "Requirement already satisfied: pyproject_hooks in c:\\users\\psabarikrishnan\\anaconda3\\lib\\site-packages (from build->modelbit) (1.1.0)\n",
      "Requirement already satisfied: colorama in c:\\users\\psabarikrishnan\\anaconda3\\lib\\site-packages (from build->modelbit) (0.4.6)\n",
      "Requirement already satisfied: zipp>=0.5 in c:\\users\\psabarikrishnan\\anaconda3\\lib\\site-packages (from importlib-metadata->modelbit) (3.11.0)\n",
      "Requirement already satisfied: MarkupSafe>=2.0 in c:\\users\\psabarikrishnan\\anaconda3\\lib\\site-packages (from jinja2->modelbit) (2.1.1)\n",
      "Requirement already satisfied: python-dateutil>=2.8.2 in c:\\users\\psabarikrishnan\\anaconda3\\lib\\site-packages (from pandas->modelbit) (2.8.2)\n",
      "Requirement already satisfied: pytz>=2020.1 in c:\\users\\psabarikrishnan\\anaconda3\\lib\\site-packages (from pandas->modelbit) (2023.3.post1)\n",
      "Requirement already satisfied: tzdata>=2022.1 in c:\\users\\psabarikrishnan\\anaconda3\\lib\\site-packages (from pandas->modelbit) (2023.3)\n",
      "Requirement already satisfied: charset-normalizer<4,>=2 in c:\\users\\psabarikrishnan\\anaconda3\\lib\\site-packages (from requests->modelbit) (2.0.4)\n",
      "Requirement already satisfied: idna<4,>=2.5 in c:\\users\\psabarikrishnan\\anaconda3\\lib\\site-packages (from requests->modelbit) (3.4)\n",
      "Requirement already satisfied: certifi>=2017.4.17 in c:\\users\\psabarikrishnan\\anaconda3\\lib\\site-packages (from requests->modelbit) (2023.7.22)\n",
      "Requirement already satisfied: six>=1.5 in c:\\users\\psabarikrishnan\\anaconda3\\lib\\site-packages (from python-dateutil>=2.8.2->pandas->modelbit) (1.16.0)\n"
     ]
    }
   ],
   "source": [
    "pip install modelbit"
   ]
  },
  {
   "cell_type": "code",
   "execution_count": 35,
   "metadata": {},
   "outputs": [
    {
     "data": {
      "text/html": [
       "\n",
       "<div style=\"margin: 0; padding: 5px; line-height: 1.75; font-size: 14px; vertical-align: baseline; list-style: none; font-family: Roboto, Arial, sans-serif; background: none;\">\n",
       "  <div style=\"margin: 0; padding: 0; line-height: 1.75; font-size: 14px; vertical-align: baseline; list-style: none; font-family: Roboto, Arial, sans-serif; background: none;\">\n",
       "    You're <span style=\"margin: 0; padding: 0; line-height: 1.75; font-size: 14px; vertical-align: baseline; list-style: none; font-family: Roboto, Arial, sans-serif; background: none; color: #15803d; font-weight: bold;\">connected</span> to Modelbit as psabarikrishnan@gmail.com.\n",
       "    Workspace: <span style=\"margin: 0; padding: 0; line-height: 1.75; font-size: 14px; vertical-align: baseline; list-style: none; font-family: monospace; background: none; font-weight: bold; color: #845B99;\">sabarikrishnan</span>.\n",
       "    \n",
       "      Region: <span style=\"margin: 0; padding: 0; line-height: 1.75; font-size: 14px; vertical-align: baseline; list-style: none; font-family: monospace; background: none; font-weight: bold; color: #845B99;\">us-east-1</span>\n",
       "    \n",
       "    Branch: <span style=\"margin: 0; padding: 0; line-height: 1.75; font-size: 14px; vertical-align: baseline; list-style: none; font-family: monospace; background: none; font-weight: bold; color: #845B99;\">main</span>\n",
       "\t</div>\n",
       "  \n",
       "\n",
       "\n",
       "\n",
       "\n",
       "\n",
       "\n",
       "</div>"
      ],
      "text/plain": [
       "<IPython.core.display.HTML object>"
      ]
     },
     "metadata": {},
     "output_type": "display_data"
    }
   ],
   "source": [
    "import modelbit\n",
    "mb = modelbit.login()"
   ]
  },
  {
   "cell_type": "code",
   "execution_count": 37,
   "metadata": {},
   "outputs": [],
   "source": [
    "\n",
    "def encode_image_to_base64(file_path):\n",
    "    # Open the image file\n",
    "    with open(file_path, \"rb\") as image_file:\n",
    "        # Read the image data\n",
    "        image_data = image_file.read()\n",
    "        \n",
    "        # Encode the image data to base64\n",
    "        encoded_image = base64.b64encode(image_data).decode('utf-8')\n",
    "        \n",
    "    return encoded_image"
   ]
  },
  {
   "cell_type": "code",
   "execution_count": 46,
   "metadata": {},
   "outputs": [],
   "source": [
    "encoded_image_test = encode_image_to_base64(\"paddy-leaf-disease-main/test/Brown Spot/brown_spot_01.PNG\")"
   ]
  },
  {
   "cell_type": "code",
   "execution_count": 65,
   "metadata": {},
   "outputs": [
    {
     "name": "stderr",
     "output_type": "stream",
     "text": [
      "WARNING:absl:The `save_format` argument is deprecated in Keras 3. We recommend removing this argument as it can be inferred from the file path. Received: save_format=h5\n",
      "WARNING:absl:You are saving your model as an HDF5 file via `model.save()` or `keras.saving.save_model(model)`. This file format is considered legacy. We recommend using instead the native Keras format, e.g. `model.save('my_model.keras')` or `keras.saving.save_model(model, 'my_model.keras')`. \n"
     ]
    },
    {
     "data": {
      "text/html": [
       "<div style=\"margin: 0; padding: 5px; line-height: 1.75; font-size: 14px; vertical-align: baseline; list-style: none; font-family: Roboto, Arial, sans-serif; background: none;\">\n",
       "  <div>\n",
       "    <span style=\"margin: 0; padding: 0; line-height: 1.75; font-size: 14px; vertical-align: baseline; list-style: none; font-family: Roboto, Arial, sans-serif; background: none; font-weight: bold; color: #15803d;\">Deploying </span> <span style=\"margin: 0; padding: 3px; line-height: 1.75; font-size: 13px; vertical-align: baseline; list-style: none; font-family: monospace; background: none; font-weight: 400; background-color: rgba(209, 213, 219, 0.2);\">prediction</span>\n",
       "  </div>\n",
       "  \n",
       "  \n",
       "\n",
       "\n",
       "\n",
       "\n",
       "\n",
       "\n",
       "  <div style=\"margin: 0; padding: 0; line-height: 1.75; font-size: 14px; vertical-align: baseline; list-style: none; font-family: Roboto, Arial, sans-serif; background: none; margin-top: 10px;\">\n",
       "    <div style=\"margin: 0; padding: 0; line-height: 1.75; font-size: 14px; vertical-align: baseline; list-style: none; font-family: Roboto, Arial, sans-serif; background: none; font-weight: bold; color: #845B99;\">Heads up!</div>\n",
       "    <div>\n",
       "        \n",
       "        <div style=\"margin: 0; padding: 5px; line-height: 1.75; font-size: 14px; vertical-align: baseline; list-style: none; font-family: Roboto, Arial, sans-serif; background: none; border-left: 1px solid #845B99; margin-bottom: 10px;\">\n",
       "\n",
       "    \n",
       "\n",
       "    \n",
       "\n",
       "    \n",
       "      <div style=\"margin: 0; padding: 0; line-height: 1.75; font-size: 14px; vertical-align: baseline; list-style: none; font-family: Roboto, Arial, sans-serif; background: none;\">\n",
       "        The deployment's environment will not automatically include <span style=\"margin: 0; padding: 3px; line-height: 1.75; font-size: 13px; vertical-align: baseline; list-style: none; font-family: monospace; background: none; font-weight: 400; background-color: rgba(209, 213, 219, 0.2);\">PIL</span>. The package wasn&#39;t installed from PyPI and a private package with the same version was not found in Modelbit.\n",
       "      </div>\n",
       "    \n",
       "\n",
       "    \n",
       "\n",
       "    \n",
       "\n",
       "    \n",
       "\n",
       "    \n",
       "\n",
       "    \n",
       "\n",
       "    \n",
       "\n",
       "    \n",
       "\n",
       "    \n",
       "\n",
       "    \n",
       "\n",
       "  </div>\n",
       "        \n",
       "        <div style=\"margin: 0; padding: 5px; line-height: 1.75; font-size: 14px; vertical-align: baseline; list-style: none; font-family: Roboto, Arial, sans-serif; background: none; border-left: 1px solid #845B99; margin-bottom: 10px;\">\n",
       "\n",
       "    \n",
       "\n",
       "    \n",
       "\n",
       "    \n",
       "      <div style=\"margin: 0; padding: 0; line-height: 1.75; font-size: 14px; vertical-align: baseline; list-style: none; font-family: Roboto, Arial, sans-serif; background: none;\">\n",
       "        The deployment's environment will not automatically include <span style=\"margin: 0; padding: 3px; line-height: 1.75; font-size: 13px; vertical-align: baseline; list-style: none; font-family: monospace; background: none; font-weight: 400; background-color: rgba(209, 213, 219, 0.2);\">numpy</span>. The package wasn&#39;t installed from PyPI and a private package with the same version was not found in Modelbit.\n",
       "      </div>\n",
       "    \n",
       "\n",
       "    \n",
       "\n",
       "    \n",
       "\n",
       "    \n",
       "\n",
       "    \n",
       "\n",
       "    \n",
       "\n",
       "    \n",
       "\n",
       "    \n",
       "\n",
       "    \n",
       "\n",
       "    \n",
       "\n",
       "  </div>\n",
       "      \n",
       "    </div>\n",
       "  </div>\n",
       "\n",
       "  \n",
       "\n",
       "\n",
       "  \n",
       "\n",
       "\n",
       "\n",
       "\n",
       "  <div style=\"margin: 0; padding: 0; line-height: 1.75; font-size: 14px; vertical-align: baseline; list-style: none; font-family: Roboto, Arial, sans-serif; background: none;\">Uploading dependencies...</div>\n",
       "</div>"
      ],
      "text/plain": [
       "<IPython.core.display.HTML object>"
      ]
     },
     "metadata": {},
     "output_type": "display_data"
    },
    {
     "data": {
      "text/html": [
       "<div style=\"margin: 0; padding: 5px; line-height: 1.75; font-size: 14px; vertical-align: baseline; list-style: none; font-family: Roboto, Arial, sans-serif; background: none;\">\n",
       "  <div style=\"margin: 0; padding: 0; line-height: 1.75; font-size: 14px; vertical-align: baseline; list-style: none; font-family: Roboto, Arial, sans-serif; background: none; font-weight: bold; color: #15803d;\">Success!</div>\n",
       "  \n",
       "    <div style=\"margin: 0; padding: 0; line-height: 1.75; font-size: 14px; vertical-align: baseline; list-style: none; font-family: Roboto, Arial, sans-serif; background: none;\">\n",
       "      Deployment <span style=\"margin: 0; padding: 3px; line-height: 1.75; font-size: 13px; vertical-align: baseline; list-style: none; font-family: monospace; background: none; font-weight: 400; background-color: rgba(209, 213, 219, 0.2);\">prediction</span>\n",
       "      will be ready in  a few seconds!\n",
       "    </div>\n",
       "  \n",
       "\n",
       "  <a href=\"https://us-east-1.modelbit.com/w/sabarikrishnan/main/deployments/prediction/apis\" target=\"_blank\" style=\"display: inline-block; margin-top: 12px;\" >\n",
       "    <div\n",
       "      style=\"display: inline-block; background-color: #845B99; border-radius: 0.375rem; color: white; cursor: pointer; font-size: 14px; font-weight: 700; padding: 8px 16px;\"\n",
       "      onmouseenter=\"this.style.background='#714488'\"\n",
       "      onmouseleave=\"this.style.background='#845B99'\"\n",
       "    >\n",
       "      View in Modelbit\n",
       "    </div>\n",
       "  </a>\n",
       "</div>"
      ],
      "text/plain": [
       "<IPython.core.display.HTML object>"
      ]
     },
     "metadata": {},
     "output_type": "display_data"
    }
   ],
   "source": [
    "mb.deploy(prediction)"
   ]
  },
  {
   "cell_type": "code",
   "execution_count": 66,
   "metadata": {},
   "outputs": [
    {
     "data": {
      "text/plain": [
       "{'data': {'disease': 'Brown Spot',\n",
       "  'description': 'Brown spot is a prevalent disease in rice crops characterized by the appearance of small, round, brown lesions on the leaves. These lesions often have a darker center and a yellowish halo around them. The disease can significantly reduce the photosynthetic area of the plant, leading to decreased yield and poor grain quality.',\n",
       "  'cause': 'Brown spot is caused by the fungal pathogen Bipolaris oryzae, which thrives in warm and humid conditions. The fungus spreads through infected seeds, plant debris, and water.',\n",
       "  'solution': 'To manage brown spot, use resistant rice varieties that are less susceptible to the disease. Ensure proper field drainage to reduce humidity. Practice crop rotation and remove infected plant debris. Fungicide applications can be effective if applied at the early stages of infection.',\n",
       "  'emergency_level': 3}}"
      ]
     },
     "execution_count": 66,
     "metadata": {},
     "output_type": "execute_result"
    }
   ],
   "source": [
    "modelbit.get_inference(\n",
    "  region=\"us-east-1\",\n",
    "  workspace=\"sabarikrishnan\",\n",
    "  deployment=\"prediction\",\n",
    "  data=encoded_image_test\n",
    ")\n",
    "\n"
   ]
  }
 ],
 "metadata": {
  "kernelspec": {
   "display_name": "base",
   "language": "python",
   "name": "python3"
  },
  "language_info": {
   "codemirror_mode": {
    "name": "ipython",
    "version": 3
   },
   "file_extension": ".py",
   "mimetype": "text/x-python",
   "name": "python",
   "nbconvert_exporter": "python",
   "pygments_lexer": "ipython3",
   "version": "3.11.5"
  }
 },
 "nbformat": 4,
 "nbformat_minor": 2
}
